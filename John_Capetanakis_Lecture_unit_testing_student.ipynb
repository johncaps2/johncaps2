{
  "nbformat": 4,
  "nbformat_minor": 0,
  "metadata": {
    "colab": {
      "provenance": [],
      "include_colab_link": true
    },
    "kernelspec": {
      "name": "python3",
      "display_name": "Python 3"
    },
    "language_info": {
      "name": "python"
    }
  },
  "cells": [
    {
      "cell_type": "markdown",
      "metadata": {
        "id": "view-in-github",
        "colab_type": "text"
      },
      "source": [
        "<a href=\"https://colab.research.google.com/github/johncaps2/johncaps2/blob/main/John_Capetanakis_Lecture_unit_testing_student.ipynb\" target=\"_parent\"><img src=\"https://colab.research.google.com/assets/colab-badge.svg\" alt=\"Open In Colab\"/></a>"
      ]
    },
    {
      "cell_type": "markdown",
      "source": [
        "# Testing\n",
        "\n",
        "* When writing functions and programs, we should be sure to test the output.\n",
        "* You can compare the output to what is expected using assert."
      ],
      "metadata": {
        "id": "oFhxG5FhwaT9"
      }
    },
    {
      "cell_type": "code",
      "execution_count": 1,
      "metadata": {
        "id": "duhXt5_ZHLuh"
      },
      "outputs": [],
      "source": [
        "# define a function that multiplies by 2 and subtracts one\n",
        "def myfunc(x):\n",
        "  # Multiply by 2, subtract 1\n",
        "  y = 2*x - 1\n",
        "  return y\n",
        "\n"
      ]
    },
    {
      "cell_type": "code",
      "source": [
        "# use assert to test the output when the input is equal to x\n",
        "assert myfunc(0) == -1"
      ],
      "metadata": {
        "id": "rnke5hHwqNe5"
      },
      "execution_count": 3,
      "outputs": []
    },
    {
      "cell_type": "markdown",
      "source": [
        "# Using `try` and `except`\n",
        "\n",
        "* We can make this a little more sophisticated using the try/except commands.\n",
        "* This will allow us to give information back to the user without causing the testing cell to crash.\n",
        "* We could also tailor the feedback based on what the function returns.\n"
      ],
      "metadata": {
        "id": "DQ1gyLLQyNaD"
      }
    },
    {
      "cell_type": "code",
      "source": [
        "# demo : use try and except to make the code more robust\n",
        "\n",
        "# if the function returns the correct value, congratulate the user\n",
        "\n",
        "# if the function returns a wrong value, print error message to user\n",
        "\n",
        "try:\n",
        "  assert myfunc(0) == 1\n",
        "except AssertionError:\n",
        "  print(\"The function gave us the incorrect value!\")"
      ],
      "metadata": {
        "id": "C5EGegacrM0C",
        "colab": {
          "base_uri": "https://localhost:8080/"
        },
        "outputId": "6e4c72f3-6579-451d-b4f9-bfe8bc609c45"
      },
      "execution_count": 5,
      "outputs": [
        {
          "output_type": "stream",
          "name": "stdout",
          "text": [
            "The function gave us the incorrect value!\n"
          ]
        }
      ]
    },
    {
      "cell_type": "markdown",
      "source": [
        "# Your turn\n",
        "\n",
        "follow the instructions below to create a function and test it."
      ],
      "metadata": {
        "id": "OK1Oo-n2yY0O"
      }
    },
    {
      "cell_type": "code",
      "source": [
        "# make a function that squares the input\n",
        "def myfunc_1(x):\n",
        "  #define our function to sqaure our input number:\n",
        "  y = x**2\n",
        "  return y\n"
      ],
      "metadata": {
        "id": "wWFUF590riet"
      },
      "execution_count": 7,
      "outputs": []
    },
    {
      "cell_type": "code",
      "source": [
        "# test with a positive number\n",
        "try:\n",
        "  assert myfunc_1(2) == 4\n",
        "except AssertionError:\n",
        "  print(\"The function gave us the incorrect value!\")\n",
        "# test with a negative number\n",
        "try:\n",
        "  assert myfunc_1(-3) == 9\n",
        "except AssertionError:\n",
        "  print(\"The function gave us the incorrect value!\")\n",
        "# test with zero\n",
        "try:\n",
        "  assert myfunc_1(0) == 0\n",
        "except AssertionError:\n",
        "  print(\"The function gave us the incorrect value!\")"
      ],
      "metadata": {
        "id": "5Eb332XWm2sn"
      },
      "execution_count": 8,
      "outputs": []
    },
    {
      "cell_type": "markdown",
      "source": [
        "# Create your own example\n",
        "\n",
        "* Create your own function\n",
        "* develop a test code to check the output of the function"
      ],
      "metadata": {
        "id": "f5hjrr1sm0d6"
      }
    },
    {
      "cell_type": "code",
      "source": [
        "def myfunc_2(x):\n",
        "  # Here, I am going to list a quadratic equation to insert values to test it.\n",
        "  y = x**2 - 4*x +4\n",
        "  # return our value\n",
        "  return y"
      ],
      "metadata": {
        "id": "muERlED4C_GJ"
      },
      "execution_count": 9,
      "outputs": []
    },
    {
      "cell_type": "code",
      "source": [
        "try:\n",
        "  assert myfunc_2(2) == 0\n",
        "except AssertionError:\n",
        "  print(\"The function gave us the incorrect value!\")\n",
        "\n",
        "try:\n",
        "  assert myfunc_2(4) == 4\n",
        "except AssertionError:\n",
        "  print(\"The function gave us the incorrect value!\")"
      ],
      "metadata": {
        "id": "7nee5fnrDLIS"
      },
      "execution_count": 12,
      "outputs": []
    },
    {
      "cell_type": "code",
      "source": [],
      "metadata": {
        "id": "DD2PvAizDNYm"
      },
      "execution_count": null,
      "outputs": []
    }
  ]
}