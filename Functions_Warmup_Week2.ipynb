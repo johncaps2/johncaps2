{
  "nbformat": 4,
  "nbformat_minor": 0,
  "metadata": {
    "colab": {
      "provenance": [],
      "authorship_tag": "ABX9TyNW23N/IDgGnr4dYpk8e7Xa",
      "include_colab_link": true
    },
    "kernelspec": {
      "name": "python3",
      "display_name": "Python 3"
    },
    "language_info": {
      "name": "python"
    }
  },
  "cells": [
    {
      "cell_type": "markdown",
      "metadata": {
        "id": "view-in-github",
        "colab_type": "text"
      },
      "source": [
        "<a href=\"https://colab.research.google.com/github/johncaps2/johncaps2/blob/main/Functions_Warmup_Week2.ipynb\" target=\"_parent\"><img src=\"https://colab.research.google.com/assets/colab-badge.svg\" alt=\"Open In Colab\"/></a>"
      ]
    },
    {
      "cell_type": "code",
      "execution_count": 57,
      "metadata": {
        "id": "1PN0r_RM3zzJ"
      },
      "outputs": [],
      "source": [
        "import numpy as np\n",
        "from matplotlib import pyplot as plt\n",
        "import math\n",
        "\n",
        "def Req_Parallel(R1, R2, R3):\n",
        "  \"\"\"Calculate the equivalent resistance of 3 resistors in parallel\"\"\"\n",
        "  Req = 1/(1/R1 + 1/R2 + 1/R3)\n",
        "  return Req\n"
      ]
    },
    {
      "cell_type": "code",
      "source": [
        "R1 = 10\n",
        "R2 = 20\n",
        "R3 = 50\n",
        "\n",
        "assert math.isclose(Req_Parallel(R1,R2,R3), 5.882, abs_tol=1.e-3)\n",
        "print(f\"The resistance over the 3 parallel resistors is {Req_Parallel(R1,R2,R3)}\")"
      ],
      "metadata": {
        "colab": {
          "base_uri": "https://localhost:8080/"
        },
        "id": "Zr6nn0024BH-",
        "outputId": "eb25d0f2-9bc8-4649-a0ce-e4da98763d0d"
      },
      "execution_count": 60,
      "outputs": [
        {
          "output_type": "stream",
          "name": "stdout",
          "text": [
            "The resistance over the 3 parallel resistors is 5.88235294117647\n"
          ]
        }
      ]
    },
    {
      "cell_type": "code",
      "source": [
        "def ReqParallel2(rlist):\n",
        "  \"\"\"Calculate Req for list of resistors in parallel\n",
        "\n",
        "  Parameters getting passed in:\n",
        "  rlist = list of resistors, resistance in Ohms\n",
        "\n",
        "  RETURN:\n",
        "  Req = returns the equivalent resistance\"\"\"\n",
        "\n",
        "  req_inv = 0\n",
        "  for r in rlist:\n",
        "    req_inv += 1/r\n",
        "  return 1/req_inv"
      ],
      "metadata": {
        "id": "U8oWlAEQ-KBB"
      },
      "execution_count": 65,
      "outputs": []
    },
    {
      "cell_type": "code",
      "source": [
        "resistor_list = [10,20,50]\n",
        "ReqParallel2(resistor_list)"
      ],
      "metadata": {
        "colab": {
          "base_uri": "https://localhost:8080/"
        },
        "id": "jRhhzRGfAkZG",
        "outputId": "4576c0c6-0ac1-4f51-9ab9-7a0d6751ad98"
      },
      "execution_count": 66,
      "outputs": [
        {
          "output_type": "execute_result",
          "data": {
            "text/plain": [
              "5.88235294117647"
            ]
          },
          "metadata": {},
          "execution_count": 66
        }
      ]
    },
    {
      "cell_type": "markdown",
      "source": [
        "# Solving systems of equations"
      ],
      "metadata": {
        "id": "1XLutW_wJuzy"
      }
    },
    {
      "cell_type": "code",
      "source": [
        "import numpy as np"
      ],
      "metadata": {
        "id": "rCzj2KY6Jwqc"
      },
      "execution_count": 67,
      "outputs": []
    },
    {
      "cell_type": "code",
      "source": [
        "R1 = 2\n",
        "R2 = 4\n",
        "R3 = 4\n",
        "R4 = 2\n",
        "V1 = 50\n",
        "V2 = 20"
      ],
      "metadata": {
        "id": "6fyGyRrzKMmD"
      },
      "execution_count": 68,
      "outputs": []
    },
    {
      "cell_type": "code",
      "source": [
        "A = np.array([[R1, R2, 0, 0], [R1, 0, R3, 0], [R1, 0, 0, R4], [1, -1, -1, -1]])"
      ],
      "metadata": {
        "id": "WMytmdbIKc2w"
      },
      "execution_count": 75,
      "outputs": []
    },
    {
      "cell_type": "code",
      "source": [
        "A"
      ],
      "metadata": {
        "colab": {
          "base_uri": "https://localhost:8080/"
        },
        "id": "X6Gf4Z5rKvHW",
        "outputId": "27bf8249-5d19-4510-ec65-fa58bac8abe5"
      },
      "execution_count": 76,
      "outputs": [
        {
          "output_type": "execute_result",
          "data": {
            "text/plain": [
              "array([[ 2,  4,  0,  0],\n",
              "       [ 2,  0,  4,  0],\n",
              "       [ 2,  0,  0,  2],\n",
              "       [ 1, -1, -1, -1]])"
            ]
          },
          "metadata": {},
          "execution_count": 76
        }
      ]
    },
    {
      "cell_type": "code",
      "source": [
        "B = np.array([V1, V1, V1+V2, 0])"
      ],
      "metadata": {
        "id": "dQCuPBj3K4qo"
      },
      "execution_count": 77,
      "outputs": []
    },
    {
      "cell_type": "code",
      "source": [
        "B"
      ],
      "metadata": {
        "colab": {
          "base_uri": "https://localhost:8080/"
        },
        "id": "fmbTbFTnLBJW",
        "outputId": "fad6b4b9-430a-47ad-fe34-0566bceb1b7e"
      },
      "execution_count": 78,
      "outputs": [
        {
          "output_type": "execute_result",
          "data": {
            "text/plain": [
              "array([50, 50, 70,  0])"
            ]
          },
          "metadata": {},
          "execution_count": 78
        }
      ]
    },
    {
      "cell_type": "code",
      "source": [
        "np.linalg.solve(A,B)"
      ],
      "metadata": {
        "colab": {
          "base_uri": "https://localhost:8080/"
        },
        "id": "37-VqnKbLBew",
        "outputId": "2b1827a0-bbea-4c26-8a4d-8d11523b63b7"
      },
      "execution_count": 79,
      "outputs": [
        {
          "output_type": "execute_result",
          "data": {
            "text/plain": [
              "array([20. ,  2.5,  2.5, 15. ])"
            ]
          },
          "metadata": {},
          "execution_count": 79
        }
      ]
    },
    {
      "cell_type": "code",
      "source": [],
      "metadata": {
        "id": "hY939AhjLNAp"
      },
      "execution_count": null,
      "outputs": []
    }
  ]
}