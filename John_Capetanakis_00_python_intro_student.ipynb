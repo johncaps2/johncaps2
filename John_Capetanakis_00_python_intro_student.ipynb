{
  "nbformat": 4,
  "nbformat_minor": 0,
  "metadata": {
    "colab": {
      "provenance": [],
      "include_colab_link": true
    },
    "kernelspec": {
      "name": "python3",
      "display_name": "Python 3"
    },
    "language_info": {
      "name": "python"
    }
  },
  "cells": [
    {
      "cell_type": "markdown",
      "metadata": {
        "id": "view-in-github",
        "colab_type": "text"
      },
      "source": [
        "<a href=\"https://colab.research.google.com/github/johncaps2/johncaps2/blob/main/John_Capetanakis_00_python_intro_student.ipynb\" target=\"_parent\"><img src=\"https://colab.research.google.com/assets/colab-badge.svg\" alt=\"Open In Colab\"/></a>"
      ]
    },
    {
      "cell_type": "code",
      "execution_count": null,
      "metadata": {
        "id": "kvsJXb9MqEbx"
      },
      "outputs": [],
      "source": []
    },
    {
      "cell_type": "markdown",
      "source": [
        "# Import modules\n",
        "\n",
        "```\n",
        "import numpy as np\n",
        "from matplotlib import pyplot as plt\n",
        "```"
      ],
      "metadata": {
        "id": "3W-irX9hqHyY"
      }
    },
    {
      "cell_type": "code",
      "source": [
        "# your code here\n",
        "import numpy as np\n",
        "from matplotlib import pyplot as plt\n"
      ],
      "metadata": {
        "id": "PUDGrE9RqNPo"
      },
      "execution_count": 83,
      "outputs": []
    },
    {
      "cell_type": "markdown",
      "source": [
        "# Defining Variables\n",
        "\n",
        "### A single variable\n",
        "```\n",
        "x = 2\n",
        "```\n",
        "\n",
        "### A list\n",
        "A list can contain different types of elements: numbers, strings, array, tuples.\n",
        "```\n",
        "mynumbers = [1,2,3]\n",
        "```\n",
        "\n",
        "```\n",
        "myletters = ['a','b','c','d','e']\n",
        "```\n",
        "\n",
        "\n"
      ],
      "metadata": {
        "id": "tfvZlkCbqPz5"
      }
    },
    {
      "cell_type": "code",
      "source": [
        "# define a variable x and set it equal to 1\n",
        "x = 1"
      ],
      "metadata": {
        "id": "RZ31vpmLqa4T"
      },
      "execution_count": 2,
      "outputs": []
    },
    {
      "cell_type": "code",
      "source": [
        "x"
      ],
      "metadata": {
        "colab": {
          "base_uri": "https://localhost:8080/"
        },
        "id": "f_DSxuyp5N3-",
        "outputId": "a29dc9cf-9b1d-40de-9ae6-6c7efe8b5df0"
      },
      "execution_count": 3,
      "outputs": [
        {
          "output_type": "execute_result",
          "data": {
            "text/plain": [
              "1"
            ]
          },
          "metadata": {},
          "execution_count": 3
        }
      ]
    },
    {
      "cell_type": "markdown",
      "source": [
        "# Printing\n",
        "\n",
        "Printing is so important when developing code.  If something is not working,\n",
        "you should insert print statements to check the values of your variables\n",
        "at different points in your code.\n",
        "\n",
        "The basic print format is:\n",
        "\n",
        "```\n",
        "print(\"This is a print statement.\")\n",
        "```"
      ],
      "metadata": {
        "id": "7tRzR95wqdzv"
      }
    },
    {
      "cell_type": "code",
      "source": [
        "# write a print statement to print \"hello world!\"\n",
        "print(\"Hello world!\")\n",
        "print(x)"
      ],
      "metadata": {
        "id": "oLJF171arQ4Y",
        "colab": {
          "base_uri": "https://localhost:8080/"
        },
        "outputId": "4a510cf0-33a4-4071-e7a9-28302bfd76a6"
      },
      "execution_count": 5,
      "outputs": [
        {
          "output_type": "stream",
          "name": "stdout",
          "text": [
            "Hello world!\n",
            "1\n"
          ]
        }
      ]
    },
    {
      "cell_type": "markdown",
      "source": [
        "# Formatting Printing\n",
        "\n",
        "Our variables often have a large number of decimal places, and you might not\n",
        "want to print the full number.  "
      ],
      "metadata": {
        "id": "li3daLSnrcl-"
      }
    },
    {
      "cell_type": "code",
      "source": [
        "# formatted print statement\n",
        "print(f\"The value of x = {x}\")"
      ],
      "metadata": {
        "id": "wbXTXLl1uGOy",
        "colab": {
          "base_uri": "https://localhost:8080/"
        },
        "outputId": "abdd0e62-eff1-4c4a-eba5-ed638d7542e7"
      },
      "execution_count": 7,
      "outputs": [
        {
          "output_type": "stream",
          "name": "stdout",
          "text": [
            "The value of x = 1\n"
          ]
        }
      ]
    },
    {
      "cell_type": "code",
      "source": [
        "print(f\"pi = {np.pi:.2e}\")\n",
        "G = 6.67e-11\n",
        "\n",
        "print(f\"G = {G}\")\n",
        "# the semicolon separates the number, the .2 is used to put in 2 decimal places\n",
        "# e is used for scientific notation"
      ],
      "metadata": {
        "colab": {
          "base_uri": "https://localhost:8080/"
        },
        "id": "HGNMCIfw5yXP",
        "outputId": "7df2ee6e-f09d-4758-922e-1ee702c8e7e1"
      },
      "execution_count": 14,
      "outputs": [
        {
          "output_type": "stream",
          "name": "stdout",
          "text": [
            "pi = 3.14e+00\n",
            "G = 6.67e-11\n"
          ]
        }
      ]
    },
    {
      "cell_type": "markdown",
      "source": [
        "# Functions\n",
        "\n",
        "Functions are chunks of code that can take input arguments and\n",
        "can return values.\n",
        "\n",
        "Here is a simple function that takes a number as an input and\n",
        "returns the number plus one and then prints the results.\n",
        "\n",
        "```\n",
        "def addone(x):\n",
        "    \"\"\"  this function adds one to the input number \"\"\"\n",
        "    x = x + 1\n",
        "    print(x)\n",
        "```"
      ],
      "metadata": {
        "id": "t8n87cLIuJsk"
      }
    },
    {
      "cell_type": "code",
      "source": [
        "# define the addone function here\n",
        "def addone(z):\n",
        "    \"\"\"  this function adds one to the input number \"\"\"\n",
        "    z = z + 1\n",
        "    return z\n",
        "\n",
        "# returning the argument brings it back, and when we redefine y as x + 1 we get a return value for it\n",
        "# variables won't come back unless you return them"
      ],
      "metadata": {
        "id": "r8bSMEdrvRl5"
      },
      "execution_count": 30,
      "outputs": []
    },
    {
      "cell_type": "markdown",
      "source": [
        "### Calling a function\n",
        "\n",
        "In the cell below, set `x=1` and pass `x` to `addone`.\n",
        "\n",
        "Then let's look at what happens to the value of x in the\n",
        "variable editor."
      ],
      "metadata": {
        "id": "ElWsHnE9vczc"
      }
    },
    {
      "cell_type": "code",
      "source": [
        "# define x\n",
        "z = 1\n",
        "\n",
        "# pass x to function address\n",
        "addone(z)\n",
        "print(f\"z = {z}\")\n",
        "\n",
        "y = addone(z)\n",
        "print(f\"y = {y}\")"
      ],
      "metadata": {
        "id": "zOjAknPIvVF9",
        "colab": {
          "base_uri": "https://localhost:8080/"
        },
        "outputId": "847d02c2-11c6-4b64-9b3d-a7426110383c"
      },
      "execution_count": 29,
      "outputs": [
        {
          "output_type": "stream",
          "name": "stdout",
          "text": [
            "z = 1\n",
            "y = 2\n"
          ]
        }
      ]
    },
    {
      "cell_type": "markdown",
      "source": [
        "### Returning values from a function"
      ],
      "metadata": {
        "id": "e41blLTnvsut"
      }
    },
    {
      "cell_type": "code",
      "source": [
        "# update the addone funtion to:\n",
        "# print 2 decimal places\n",
        "# return the new value\n",
        "\n",
        "def addone(z):\n",
        "    \"\"\"  this function adds one to the input number \"\"\"\n",
        "    z = z + 1\n",
        "    print(f\"new value = {z:.2f}\")\n",
        "    return z\n",
        "\n",
        "y = addone(x)\n"
      ],
      "metadata": {
        "id": "iMRz5wUUuYcc",
        "colab": {
          "base_uri": "https://localhost:8080/"
        },
        "outputId": "226d4e04-126f-4ef1-ae2d-ec6dd903351a"
      },
      "execution_count": 32,
      "outputs": [
        {
          "output_type": "stream",
          "name": "stdout",
          "text": [
            "new value = 2.00\n"
          ]
        }
      ]
    },
    {
      "cell_type": "markdown",
      "source": [
        "# For Loops\n",
        "\n",
        "Let's set up an array to contain 10 values:\n",
        "```\n",
        "myvals = np.arange(10)\n",
        "```\n",
        "\n",
        "Now let's use a for loop to print out the number greater than 5.\n",
        "\n"
      ],
      "metadata": {
        "id": "3g7RUJ2bwsw5"
      }
    },
    {
      "cell_type": "code",
      "source": [
        "# your code here\n",
        "# for loop to print out numbers greater than 5\n",
        "myvals = np.arange(10)\n",
        "#print(myvals)\n",
        "\n",
        "for v in myvals:\n",
        "  print (v)\n",
        "for i in range(len(myvals)):\n",
        "  print(myvals[i])\n",
        "\n",
        "for v in myvals:\n",
        "  if v > 5:\n",
        "    print(v)"
      ],
      "metadata": {
        "id": "Z6zyk-LUw1BT",
        "colab": {
          "base_uri": "https://localhost:8080/"
        },
        "outputId": "531ed2a7-bb7c-47fa-e07c-98d88db1c9d4"
      },
      "execution_count": 44,
      "outputs": [
        {
          "output_type": "stream",
          "name": "stdout",
          "text": [
            "0\n",
            "1\n",
            "2\n",
            "3\n",
            "4\n",
            "5\n",
            "6\n",
            "7\n",
            "8\n",
            "9\n",
            "0\n",
            "1\n",
            "2\n",
            "3\n",
            "4\n",
            "5\n",
            "6\n",
            "7\n",
            "8\n",
            "9\n",
            "6\n",
            "7\n",
            "8\n",
            "9\n"
          ]
        }
      ]
    },
    {
      "cell_type": "code",
      "source": [],
      "metadata": {
        "id": "4vBG_Pax-65R"
      },
      "execution_count": 43,
      "outputs": []
    },
    {
      "cell_type": "markdown",
      "source": [
        "# While loops\n",
        "\n",
        "A `while` loop will continue until the conditional is not met.\n",
        "\n",
        "Let's write a while loop to keep incrementing a number until the number reaches 20."
      ],
      "metadata": {
        "id": "N-lEkNdexYFG"
      }
    },
    {
      "cell_type": "code",
      "source": [
        "# while loop to keep incrementing a number until the number reaches 20\n",
        "mynum = 0\n",
        "\n",
        "while mynum < 20:\n",
        "  print(mynum)\n",
        "  mynum = mynum + 1\n",
        "\n",
        "print(f\"mynum = {mynum}\")"
      ],
      "metadata": {
        "id": "nLaKfZn3JXLq",
        "colab": {
          "base_uri": "https://localhost:8080/"
        },
        "outputId": "4aed5957-4843-4394-88c3-d49e0705250f"
      },
      "execution_count": 47,
      "outputs": [
        {
          "output_type": "stream",
          "name": "stdout",
          "text": [
            "0\n",
            "1\n",
            "2\n",
            "3\n",
            "4\n",
            "5\n",
            "6\n",
            "7\n",
            "8\n",
            "9\n",
            "10\n",
            "11\n",
            "12\n",
            "13\n",
            "14\n",
            "15\n",
            "16\n",
            "17\n",
            "18\n",
            "19\n",
            "mynum = 20\n"
          ]
        }
      ]
    },
    {
      "cell_type": "markdown",
      "source": [
        "# Conditionals\n",
        "\n"
      ],
      "metadata": {
        "id": "7ZSXMMjfw3Zi"
      }
    },
    {
      "cell_type": "code",
      "source": [
        "# ask for an input number\n",
        "test_number = int(input(\"6\\n\"))\n",
        "print(f\"I think you entered {test_number}\")\n",
        "# if number is greater than 10, then reject input\n",
        "if test_number > 10:\n",
        "  print(\"Reject input - Number is too high\")\n",
        "\n",
        "\n",
        "# elif is used to advance the next command: meaning if the number is not greater than 10, it would bypass this and try and focus on a new one.\n",
        "# for the next number below, it will be less than one, so it will be invalid\n",
        "elif test_number < 1:\n",
        "  print(\"Reject input - Number is too low\")\n",
        "# if the user enters 6, print \"lucky guess\"\n",
        "# this else - if command supports our answer; since we get 6 here, we see \"Lucky guess\"\n",
        "elif test_number == 6:\n",
        "  print(\"Lucky guess\")\n",
        "\n",
        "# for all other numbers, print \"not correct - better luck next time!\"\n",
        "else:\n",
        "  print(\"Not correct - better luck next time!\")"
      ],
      "metadata": {
        "id": "AiSellYDw2gG",
        "colab": {
          "base_uri": "https://localhost:8080/"
        },
        "outputId": "53ffd637-aaec-425e-8117-ff580f6648a8"
      },
      "execution_count": 61,
      "outputs": [
        {
          "output_type": "stream",
          "name": "stdout",
          "text": [
            "6\n",
            "6\n",
            "I think you entered 6\n",
            "Lucky guess\n"
          ]
        }
      ]
    },
    {
      "cell_type": "markdown",
      "source": [
        "# Basic Plotting\n",
        "\n",
        "Visualizing variables is essential for checking and understanding the results\n",
        "of any code that we write.\n",
        "\n",
        "We will start with a simple example to plot $y = 2 x^2$ over the range $0 \\le x \\le 10$."
      ],
      "metadata": {
        "id": "tSovgxtxyR7-"
      }
    },
    {
      "cell_type": "code",
      "source": [
        "# code to make plot here\n",
        "\n",
        "# define x using np.linspace\n",
        "x = np.linspace(0,10,100)\n",
        "# define y\n",
        "y = 2*x**2\n",
        "# double asterisk is for the power\n",
        "plt.figure(figsize=(6,4))\n",
        "plt.subplot(1,2,1)\n",
        "# plot y vs x using plt.plot\n",
        "\n",
        "plt.plot(x,y,'cs',markersize=4, label=\"$y=2x^2$\")\n",
        "plt.xlabel(\"x\")\n",
        "plt.ylabel(\"y\")\n",
        "plt.title(\"A beautiful plot!\",fontsize=20)\n",
        "plt.legend()\n",
        "\n",
        "# make another figure, but use plt.scatter instead of plt.plot\n",
        "\n",
        "#plt.figure(figsize=(6,4))\n",
        "plt.subplot(1,2,2)\n",
        "mycolor = np.arange(len(x))\n",
        "plt.scatter(x,y,c=mycolor, label=\"$y=2x^2\")\n",
        "cb = plt.colorbar(label='x index')\n",
        "plt.xlabel(\"x\",fontsize = 16)\n",
        "plt.ylabel(\"y\", fontsize = 16)\n",
        "plt.title(\"A beautiful plot!\", fontsize=20)\n",
        "plt.legend()\n"
      ],
      "metadata": {
        "id": "K401UT-QzA4s",
        "colab": {
          "base_uri": "https://localhost:8080/",
          "height": 441
        },
        "outputId": "5f7c942c-1880-45da-acff-ab8fe9138e85"
      },
      "execution_count": 84,
      "outputs": [
        {
          "output_type": "execute_result",
          "data": {
            "text/plain": [
              "<matplotlib.legend.Legend at 0x7b923ad85870>"
            ]
          },
          "metadata": {},
          "execution_count": 84
        },
        {
          "output_type": "display_data",
          "data": {
            "text/plain": [
              "<Figure size 600x400 with 3 Axes>"
            ],
            "image/png": "[encoded data removed]"
          },
          "metadata": {}
        }
      ]
    },
    {
      "cell_type": "code",
      "source": [],
      "metadata": {
        "id": "0Oa7EG-f0_AM"
      },
      "execution_count": null,
      "outputs": []
    }
  ]
}